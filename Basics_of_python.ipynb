{
  "nbformat": 4,
  "nbformat_minor": 0,
  "metadata": {
    "colab": {
      "provenance": []
    },
    "kernelspec": {
      "name": "python3",
      "display_name": "Python 3"
    },
    "language_info": {
      "name": "python"
    }
  },
  "cells": [
    {
      "cell_type": "markdown",
      "source": [
        "1.What is Python, and why is it popular?\n",
        "\n",
        "-Python is a popular programming language that's easy to learn and use. Here's why so many people like it:\n",
        "\n",
        "-Simple and Easy to Read: Python’s code is clean and easy to understand, even for beginners. You don’t need to worry about complicated rules to write code.\n",
        "\n",
        "-Can Do Many Things: You can use Python for a lot of things—building websites, analyzing data, creating games, automating tasks, and more.\n",
        "\n",
        "-Big Community and Helpful Tools: Because so many people use Python, there are lots of helpful resources, libraries, and tools that make coding easier and faster.\n",
        "\n",
        "-Works on Any Computer: Python can run on almost any computer, whether it’s a Windows, Mac, or Linux machine.\n",
        "\n",
        "-Lots of Help Available: There are tons of tutorials, guides, and forums where we can find help when we’re stuck.\n",
        "\n",
        "-Quick to Build Projects: Python allows you to write and test code quickly, so we can see results faster.\n",
        "\n",
        "-Free to Use: Python is open-source, meaning it’s free to download and use.\n",
        "\n",
        "All in all, Python is popular because it's easy to learn, flexible, and has lots of support from a large community.\n",
        "\n",
        "2. what is an interpreter in python?\n",
        "\n",
        "-In Python, an **interpreter** is a program that reads and executes your Python code line by line. Instead of compiling the code all at once like some other programming languages (like C++), the interpreter translates each line of code into machine-readable instructions as it runs.\n",
        "\n",
        "-Here’s how it works in simple terms:\n",
        "\n",
        "1. we write our Python code (like a script or program).\n",
        "2. The Python interpreter reads the code line by line.\n",
        "3. It immediately converts each line into something the computer can understand and execute.\n",
        "\n",
        "-Because of this, Python is called an **interpreted language**, as opposed to a **compiled language** (like C or Java), where the code is first turned into machine code (compiled) before running.\n",
        "\n",
        "-The main benefit of an interpreter is that it allows for quick testing and debugging. we can run your Python code directly without needing to go through a separate compilation step. However, it can be a little slower than compiled languages since it translates code on the fly.\n",
        "\n",
        "3.what are pre-defined keywords in python?\n",
        "\n",
        "-In Python, **predefined keywords** (often referred to as **reserved words**) are words that have a special meaning in the language's syntax. These keywords cannot be used as identifiers (such as variable names, function names, or class names) because they are reserved for Python's internal functionality.\n",
        "\n",
        "As of Python 3.9+, here are the predefined keywords:\n",
        "\n",
        "1. `False`\n",
        "2. `None`\n",
        "3. `True`\n",
        "4. `and`\n",
        "5. `as`\n",
        "6. `assert`\n",
        "7. `async`\n",
        "8. `await`\n",
        "9. `break`\n",
        "10. `class`\n",
        "11. `continue`\n",
        "12. `def`\n",
        "13. `del`\n",
        "14. `elif`\n",
        "15. `else`\n",
        "16. `except`\n",
        "17. `finally`\n",
        "18. `for`\n",
        "19. `from`\n",
        "20. `global`\n",
        "21. `if`\n",
        "22. `import`\n",
        "23. `in`\n",
        "24. `is`\n",
        "25. `lambda`\n",
        "26. `nonlocal`\n",
        "27. `not`\n",
        "28. `or`\n",
        "29. `pass`\n",
        "30. `raise`\n",
        "31. `return`\n",
        "32. `try`\n",
        "33. `while`\n",
        "34. `with`\n",
        "35. `yield`\n",
        "4.can keywords be used as variable names?\n",
        "\n",
        "-No, **keywords** in Python cannot be used as variable names.\n",
        "\n",
        "Keywords are reserved words that have a specific meaning in the Python language. They are part of the syntax and are used to define the structure of your code. For example, words like `if`, `else`, `for`, `while`, `def`, `class`, and `return` are all keywords in Python.\n",
        "\n",
        "If we try to use a keyword as a variable name, Python will raise a **SyntaxError** because it expects the keyword to be used for its intended purpose.\n",
        "\n",
        "5.what is mutability in python?\n",
        "\n",
        "-Mutability in Python refers to whether an object can be changed after it has been created. In other words, it describes whether the content of a variable can be modified without changing its identity (its reference in memory).\n",
        "\n",
        "6.why are lists mutable, but tuples are immutable?\n",
        "-The main reason lists are mutable but tuples are immutable in Python comes down to their design and purpose:\n",
        "\n",
        " 1.Mutability & Immutability\n",
        "- Lists (`list`) are mutable because they are designed to store collections of items that may change over time. You can modify a list by adding, removing, or updating elements.\n",
        "- Tuples (`tuple`) are immutable because they are meant to be fixed collections of items. Once created, their contents cannot be changed.\n",
        "\n",
        " 2.Memory & Performance\n",
        "-since lists are  mutable, Python allocates extra memory for them, allowing dynamic resizing.\n",
        "-Tuples,being immutable, are more memory efficient and often stored in a more compact way.\n",
        "\n",
        " 3.Hashability\n",
        "-Tuples can be used as dictionary keys because they are immutable (as long as they contain only immutable elements).\n",
        "- Lists cannot be dictionary keys because their contents can change, which would break dictionary lookups.\n",
        "\n",
        " 4.Safety & Reliability\n",
        "- Tuples are safer for storing fixed data like coordinates `(x, y)`, RGB color values `(255, 0, 0)`, or database records.\n",
        "- Lists are better for dynamic collections that need modifications.\n",
        "7.What is the difference between “==” and “is” operators in Python?\n",
        "Difference Between `==` and `is` in Python\n",
        "1.`==` (Equality Operator)\n",
        "   - Checks whether two objects have the same value.  \n",
        "   - Compares the data stored inside the objects.  \n",
        "   - Can return `True` even if the objects are different instances in memory.  \n",
        "\n",
        "2.`is` (Identity Operator)\n",
        "   - Checks whether two variables refer to the same memory location.\n",
        "   - Compares the identity of objects, not just their values.  \n",
        "   - Returns `True` only if both variables point to the exact same object in memory.\n",
        "\n",
        "8.What are logical operators in Python?\n",
        "\n",
        "-Logical Operators in Python\n",
        "\n",
        "-Logical operators are used to combine multiple conditions and return a Boolean (`True` or `False`) result. Python has three logical operators:  \n",
        "\n",
        "1.and (Logical AND)\n",
        "\n",
        "Returns True if both conditions are True.\n",
        "\n",
        "Returns False if at least one condition is False.\n",
        "\n",
        "2.or (Logical OR)\n",
        "\n",
        "Returns True if at least one condition is True.\n",
        "\n",
        "Returns False only if both conditions are False.\n",
        "\n",
        "3.not (Logical NOT)\n",
        "\n",
        "Reverses the Boolean value of a condition.\n",
        "\n",
        "Converts True to False and False to True.\n",
        "\n",
        "9.What is type casting in Python?\n",
        "\n",
        "-Type Casting in Python\n",
        "Type casting (also called type conversion) is the process of converting a value from one data type to another in Python.\n",
        "\n",
        "Types of Type Casting\n",
        "Implicit Type Casting (Automatic Conversion)\n",
        "\n",
        "Done automatically by Python when there is no risk of data loss.\n",
        "\n",
        "Example: Converting int to float.\n",
        "\n",
        "Explicit Type Casting (Manual Conversion)\n",
        "\n",
        "Done using built-in functions like int(), float(), str(), bool(), etc.\n",
        "\n",
        "Required when converting between incompatible types (e.g., string to integer).\n",
        "\n",
        "10.What is the difference between implicit and explicit type casting?\n",
        "-Difference Between Implicit and Explicit Type Casting in Python\n",
        "\n",
        "-Implicit type casting happens automatically when Python converts a smaller data type to a larger one to prevent data loss. This process requires no user intervention and ensures that the conversion is safe. Python typically performs implicit casting when combining different numeric types, such as integers and floats.\n",
        "\n",
        "-Explicit type casting, on the other hand, is done manually by the programmer using built-in functions like int(), float(), and str(). It is necessary when converting between incompatible data types, such as converting a string to an integer. Unlike implicit casting, explicit type conversion may lead to data loss, especially when converting from a more precise type to a less precise one, like from a float to an integer.\n",
        "\n",
        "11.What is the purpose of conditional statements in Python?\n",
        "\n",
        "-Purpose of Conditional Statements in Python\n",
        "Conditional statements in Python are used to control the flow of a program based on specific conditions. They allow a program to make decisions and execute different blocks of code depending on whether a condition is True or False.\n",
        "\n",
        "These statements help in:\n",
        "\n",
        "Decision-Making: Execute different actions based on different conditions.\n",
        "\n",
        "Controlling Program Flow: Determine which part of the code runs and which part is skipped.\n",
        "\n",
        "Improving Efficiency: Avoid unnecessary computations by running only relevant code.\n",
        "\n",
        "Enhancing Interactivity: Make programs dynamic by responding to user input or real-time data.\n",
        "\n",
        "Python provides conditional statements like if, if-else, and if-elif-else to implement decision-making logic.\n",
        "\n",
        "12.How does the elif statement work?\n",
        "\n",
        "-The elif statement (short for \"else if\") is used in conditional statements to check multiple conditions sequentially. It works as an extension of the if statement when more than two possible outcomes exist.\n",
        "\n",
        "Here’s how it works:\n",
        "\n",
        "The if statement checks the first condition. If it is True, the corresponding block of code runs, and the rest of the conditions are skipped.\n",
        "\n",
        "If the if condition is False, the program moves to the elif statement and checks its condition.\n",
        "\n",
        "If an elif condition is True, its block executes, and the program ignores any remaining elif or else statements.\n",
        "\n",
        "If none of the if or elif conditions are True, the else block (if present) runs.\n",
        "\n",
        "This allows efficient decision-making by testing multiple conditions in order, ensuring only one block of code executes.\n",
        "\n",
        "13.What is the difference between for and while loops?\n",
        "\n",
        "-Difference Between for and while Loops in Python\n",
        "Loop Type:\n",
        "\n",
        "The for loop is used when the number of iterations is known beforehand.\n",
        "\n",
        "The while loop is used when the number of iterations is unknown and depends on a condition.\n",
        "\n",
        "Iteration Mechanism:\n",
        "\n",
        "The for loop iterates over a sequence (like a list, tuple, or range) automatically.\n",
        "\n",
        "The while loop executes as long as a condition remains True and requires manual updates to the loop variable.\n",
        "\n",
        "Use Case:\n",
        "\n",
        "Use for when looping through a fixed sequence of items.\n",
        "\n",
        "Use while when looping until a specific condition is met, such as waiting for user input or monitoring a variable.\n",
        "\n",
        "Risk of Infinite Loop:\n",
        "\n",
        "The for loop is generally safer because it stops automatically.\n",
        "\n",
        "The while loop can cause infinite loops if the condition never becomes False.\n",
        "\n",
        "14.Describe a scenario where a while loop is more suitable than a for loop.\n",
        "-Scenario Where a while Loop is More Suitable Than a for Loop\n",
        "A while loop is more suitable when the number of iterations is unknown beforehand and depends on a condition rather than a fixed sequence.\n",
        "\n",
        "Example Scenario: User Input Validation\n",
        "Imagine a program that asks the user to enter a valid password. The program should keep asking until the user enters the correct password. Since we don’t know how many attempts the user will need, a while loop is the best choice.\n",
        "\n",
        "In this case, a for loop wouldn't be appropriate because it runs a fixed number of times, whereas we need to loop until the correct input is received.\n",
        "\n",
        "1.Write a Python program to print \"Hello, World!_\n",
        "\n",
        "\n",
        "\n",
        "\n",
        "\n",
        "\n",
        "\n",
        "\n",
        "\n",
        "\n",
        "\n",
        "\n",
        "\n",
        "\n"
      ],
      "metadata": {
        "id": "wwyfoHjZZ2AT"
      }
    },
    {
      "cell_type": "code",
      "source": [
        "print(\"Hello, World!\")"
      ],
      "metadata": {
        "colab": {
          "base_uri": "https://localhost:8080/"
        },
        "id": "GlP3DYpUoq73",
        "outputId": "f4b95132-6b6b-47be-830b-0050e2bcacbf"
      },
      "execution_count": null,
      "outputs": [
        {
          "output_type": "stream",
          "name": "stdout",
          "text": [
            "Hello, World!\n"
          ]
        }
      ]
    },
    {
      "cell_type": "markdown",
      "source": [
        "2.Write a Python program that displays your name and age?"
      ],
      "metadata": {
        "id": "93A823lzLm2p"
      }
    },
    {
      "cell_type": "code",
      "execution_count": null,
      "metadata": {
        "id": "FMv2MHmdZyg2",
        "colab": {
          "base_uri": "https://localhost:8080/"
        },
        "outputId": "012b7574-9650-4541-9c1f-e4db5a80bc91"
      },
      "outputs": [
        {
          "output_type": "stream",
          "name": "stdout",
          "text": [
            "Soumya\n",
            "23\n"
          ]
        }
      ],
      "source": [
        "print(\"Soumya\")\n",
        "print(23)"
      ]
    },
    {
      "cell_type": "markdown",
      "source": [
        "3.Write code to print all the pre-defined keywords in Python using the keyword library?\n"
      ],
      "metadata": {
        "id": "JRommdINwMWb"
      }
    },
    {
      "cell_type": "code",
      "source": [
        "import keyword\n",
        "\n",
        "# Print all Python keywords\n",
        "print(keyword.kwlist)\n"
      ],
      "metadata": {
        "colab": {
          "base_uri": "https://localhost:8080/"
        },
        "id": "endl6gK6xakN",
        "outputId": "c0bc1bf9-6e3c-4f3c-852a-ab2f9d7cab2f"
      },
      "execution_count": null,
      "outputs": [
        {
          "output_type": "stream",
          "name": "stdout",
          "text": [
            "['False', 'None', 'True', 'and', 'as', 'assert', 'async', 'await', 'break', 'class', 'continue', 'def', 'del', 'elif', 'else', 'except', 'finally', 'for', 'from', 'global', 'if', 'import', 'in', 'is', 'lambda', 'nonlocal', 'not', 'or', 'pass', 'raise', 'return', 'try', 'while', 'with', 'yield']\n"
          ]
        }
      ]
    },
    {
      "cell_type": "markdown",
      "source": [
        "4.Write a program that checks if a given word is a Python keyword."
      ],
      "metadata": {
        "id": "_U-SFUluzDWc"
      }
    },
    {
      "cell_type": "code",
      "source": [
        "import keyword\n",
        "\n",
        "# Input from the user\n",
        "word = input(\"Enter a word: \")\n",
        "\n",
        "# Check if it's a Python keyword\n",
        "if keyword.iskeyword(word):\n",
        "    print(f\"'{word}' is a Python keyword.\")\n",
        "else:\n",
        "    print(f\"'{word}' is NOT a Python keyword.\")\n"
      ],
      "metadata": {
        "id": "TBMw8p9JzNNR"
      },
      "execution_count": null,
      "outputs": []
    },
    {
      "cell_type": "markdown",
      "source": [
        "5.create a list and tuple in Python, and demonstrate how attempting to change an element works differently\n",
        "for each."
      ],
      "metadata": {
        "id": "r06GMEwo2dhx"
      }
    },
    {
      "cell_type": "code",
      "source": [
        "# Creating a list (mutable)\n",
        "my_list = [1, 2, 3]\n",
        "print(\"Original List:\", my_list)\n",
        "\n",
        "# Modifying an element in the list\n",
        "my_list[1] = 10\n",
        "print(\"Modified List:\", my_list)  # Works successfully\n",
        "\n",
        "# Creating a tuple (immutable)\n",
        "my_tuple = (1, 2, 3)\n",
        "print(\"Original Tuple:\", my_tuple)\n",
        "\n",
        "# Attempting to modify an element in the tuple\n",
        "try:\n",
        "    my_tuple[1] = 10  # This will raise an error\n",
        "except TypeError as e:\n",
        "    print(\"Error:\", e)\n"
      ],
      "metadata": {
        "id": "YupVVO032LED",
        "colab": {
          "base_uri": "https://localhost:8080/"
        },
        "outputId": "20d2dfc3-32e8-49c2-9f39-0e05bfb86f8b"
      },
      "execution_count": 5,
      "outputs": [
        {
          "output_type": "stream",
          "name": "stdout",
          "text": [
            "Original List: [1, 2, 3]\n",
            "Modified List: [1, 10, 3]\n",
            "Original Tuple: (1, 2, 3)\n",
            "Error: 'tuple' object does not support item assignment\n"
          ]
        }
      ]
    },
    {
      "cell_type": "markdown",
      "source": [
        "6.Write a function to demonstrate the behavior of mutable and immutable arguments.\n"
      ],
      "metadata": {
        "id": "muCJ1fHo2L1q"
      }
    },
    {
      "cell_type": "code",
      "source": [
        "# Function to modify mutable and immutable arguments\n",
        "def modify_values(immutable_arg, mutable_arg):\n",
        "    # Trying to modify the immutable argument (integer)\n",
        "    immutable_arg += 10  # Creates a new integer object\n",
        "\n",
        "    # Modifying the mutable argument (list)\n",
        "    mutable_arg.append(4)  # Modifies the original list\n",
        "\n",
        "    print(\"Inside function - Immutable:\", immutable_arg)\n",
        "    print(\"Inside function - Mutable:\", mutable_arg)\n",
        "\n",
        "\n",
        "# Immutable argument (integer)\n",
        "num = 5\n",
        "\n",
        "# Mutable argument (list)\n",
        "my_list = [1, 2, 3]\n",
        "\n",
        "# Calling the function\n",
        "modify_values(num, my_list)\n",
        "\n",
        "# Checking values after function call\n",
        "print(\"Outside function - Immutable:\", num)  # Unchanged\n",
        "print(\"Outside function - Mutable:\", my_list)  # Changed\n"
      ],
      "metadata": {
        "id": "shKURbvo6cW4",
        "colab": {
          "base_uri": "https://localhost:8080/"
        },
        "outputId": "bef9e923-b132-45d1-bc3d-fc7ddfc17e30"
      },
      "execution_count": 4,
      "outputs": [
        {
          "output_type": "stream",
          "name": "stdout",
          "text": [
            "Inside function - Immutable: 15\n",
            "Inside function - Mutable: [1, 2, 3, 4]\n",
            "Outside function - Immutable: 5\n",
            "Outside function - Mutable: [1, 2, 3, 4]\n"
          ]
        }
      ]
    },
    {
      "cell_type": "markdown",
      "source": [
        "7.Write a function to demonstrate the behavior of mutable and immutable arguments.\n"
      ],
      "metadata": {
        "id": "3H560WMH9Pso"
      }
    },
    {
      "cell_type": "code",
      "source": [
        "def demonstrate_mutable_immutable(immutable_arg, mutable_arg):\n",
        "    # Modifying the immutable argument (integer)\n",
        "    immutable_arg += 10  # Creates a new integer object\n",
        "\n",
        "    # Modifying the mutable argument (list)\n",
        "    mutable_arg.append(4)  # Alters the original list\n",
        "\n",
        "    print(\"Inside function - Immutable:\", immutable_arg)\n",
        "    print(\"Inside function - Mutable:\", mutable_arg)\n",
        "\n",
        "\n",
        "# Immutable argument (integer)\n",
        "num = 5\n",
        "\n",
        "# Mutable argument (list)\n",
        "my_list = [1, 2, 3]\n",
        "\n",
        "# Calling the function\n",
        "demonstrate_mutable_immutable(num, my_list)\n",
        "\n",
        "# Checking values after function call\n",
        "print(\"Outside function - Immutable:\", num)  # Unchanged\n",
        "print(\"Outside function - Mutable:\", my_list)  # Changed\n"
      ],
      "metadata": {
        "id": "a5bk5Tmf9468",
        "colab": {
          "base_uri": "https://localhost:8080/"
        },
        "outputId": "4a4bb069-a0cd-421b-94cf-f1e1a9a92c54"
      },
      "execution_count": 3,
      "outputs": [
        {
          "output_type": "stream",
          "name": "stdout",
          "text": [
            "Inside function - Immutable: 15\n",
            "Inside function - Mutable: [1, 2, 3, 4]\n",
            "Outside function - Immutable: 5\n",
            "Outside function - Mutable: [1, 2, 3, 4]\n"
          ]
        }
      ]
    },
    {
      "cell_type": "markdown",
      "source": [
        "8. Write a program to demonstrate the use of logical operators."
      ],
      "metadata": {
        "id": "QglsYiYlI0yP"
      }
    },
    {
      "cell_type": "code",
      "source": [
        "# Program to demonstrate logical operators in Python\n",
        "\n",
        "# Logical operators\n",
        "# AND (and), OR (or), NOT (not)\n",
        "\n",
        "# Define some boolean variables\n",
        "a = True\n",
        "b = False\n",
        "x = 5\n",
        "y = 10\n",
        "\n",
        "# Using AND (and) operator\n",
        "if a and b:\n",
        "    print(\"Both a and b are True\")\n",
        "else:\n",
        "    print(\"Either a or b is False\")\n",
        "\n",
        "# Using OR (or) operator\n",
        "if a or b:\n",
        "    print(\"At least one of a or b is True\")\n",
        "else:\n",
        "    print(\"Both a and b are False\")\n",
        "\n",
        "# Using NOT (not) operator\n",
        "if not b:\n",
        "    print(\"b is False, so NOT b is True\")\n",
        "\n",
        "# Combining logical operators\n",
        "if a and (x < y):\n",
        "    print(\"a is True and x is less than y\")\n",
        "\n",
        "if not (x > y) or b:\n",
        "    print(\"x is not greater than y, or b is False\")\n",
        "\n",
        "# Additional example with more conditions\n",
        "if (x == 5 and y != 5) or (a and not b):\n",
        "    print(\"This is an example of combining multiple logical conditions\")\n",
        "\n"
      ],
      "metadata": {
        "colab": {
          "base_uri": "https://localhost:8080/"
        },
        "id": "lGDD8RZXKad4",
        "outputId": "2af5b57d-f5f3-456f-ef6c-f2219c2fa28d"
      },
      "execution_count": 1,
      "outputs": [
        {
          "output_type": "stream",
          "name": "stdout",
          "text": [
            "Either a or b is False\n",
            "At least one of a or b is True\n",
            "b is False, so NOT b is True\n",
            "a is True and x is less than y\n",
            "x is not greater than y, or b is False\n",
            "This is an example of combining multiple logical conditions\n"
          ]
        }
      ]
    },
    {
      "cell_type": "markdown",
      "source": [
        "9.Write a Python program to convert user input from string to integer, float, and boolean types."
      ],
      "metadata": {
        "id": "J9XAFQzsLkVa"
      }
    },
    {
      "cell_type": "code",
      "source": [
        "# Program to convert user input from string to integer, float, and boolean types\n",
        "\n",
        "# Taking user input as a string\n",
        "user_input = input(\"Enter a value: \")\n",
        "\n",
        "# Convert the input to an integer (if possible)\n",
        "try:\n",
        "    int_value = int(user_input)\n",
        "    print(f\"Converted to Integer: {int_value}\")\n",
        "except ValueError:\n",
        "    print(\"Cannot convert input to Integer.\")\n",
        "\n",
        "# Convert the input to a float (if possible)\n",
        "try:\n",
        "    float_value = float(user_input)\n",
        "    print(f\"Converted to Float: {float_value}\")\n",
        "except ValueError:\n",
        "    print(\"Cannot convert input to Float.\")\n",
        "\n",
        "# Convert the input to a boolean (if possible)\n",
        "# In Python, 'True' or 'False' (case-sensitive) are the valid boolean values in string form\n",
        "if user_input.lower() == 'true':\n",
        "    bool_value = True\n",
        "    print(f\"Converted to Boolean: {bool_value}\")\n",
        "elif user_input.lower() == 'false':\n",
        "    bool_value = False\n",
        "    print(f\"Converted to Boolean: {bool_value}\")\n",
        "else:\n",
        "    # Any other non-empty string is interpreted as True for Boolean, empty string as False\n",
        "    bool_value = bool(user_input)\n",
        "    print(f\"Converted to Boolean: {bool_value}\")\n"
      ],
      "metadata": {
        "id": "ivmaOLh8NsJK"
      },
      "execution_count": null,
      "outputs": []
    },
    {
      "cell_type": "markdown",
      "source": [
        "10.Write code to demonstrate type casting with list elements."
      ],
      "metadata": {
        "id": "TVoZgGmcO0I8"
      }
    },
    {
      "cell_type": "code",
      "source": [
        "# Initial list with mixed data types as strings\n",
        "str_list = [\"10\", \"20.5\", \"True\", \"False\", \"50\"]\n",
        "\n",
        "# Convert the string elements to different types (int, float, bool)\n",
        "int_list = [int(item) if item.replace('.', '', 1).isdigit() else item for item in str_list]\n",
        "float_list = [float(item) if '.' in item else item for item in str_list]\n",
        "bool_list = [True if item.lower() == 'true' else False if item.lower() == 'false' else bool(item) for item in str_list]\n",
        "\n",
        "# Print the original and converted lists\n",
        "print(\"Original List (Strings):\", str_list)\n",
        "print(\"Converted to Integers:\", int_list)\n",
        "print(\"Converted to Floats:\", float_list)\n",
        "print(\"Converted to Booleans:\", bool_list)\n",
        "\n"
      ],
      "metadata": {
        "id": "kGoWxaNXPDF_"
      },
      "execution_count": null,
      "outputs": []
    },
    {
      "cell_type": "markdown",
      "source": [
        "11.Write a program that checks if a number is positive, negative, or zero."
      ],
      "metadata": {
        "id": "T0o0mabOQKMn"
      }
    },
    {
      "cell_type": "code",
      "source": [
        "# Program to check if a number is positive, negative, or zero\n",
        "\n",
        "# Input from the user\n",
        "num = float(input(\"Enter a number: \"))\n",
        "\n",
        "# Check if the number is positive, negative, or zero\n",
        "if num > 0:\n",
        "    print(f\"{num} is a positive number.\")\n",
        "elif num < 0:\n",
        "    print(f\"{num} is a negative number.\")\n",
        "else:\n",
        "    print(\"The number is zero.\")\n"
      ],
      "metadata": {
        "id": "eJikbYzHQWDp"
      },
      "execution_count": null,
      "outputs": []
    },
    {
      "cell_type": "markdown",
      "source": [
        "12.Write a for loop to print numbers from 1 to 10."
      ],
      "metadata": {
        "id": "qPutdH9lQ8nh"
      }
    },
    {
      "cell_type": "code",
      "source": [
        "# Using a for loop to print numbers from 1 to 10\n",
        "for num in range(1, 11):\n",
        "    print(num)\n"
      ],
      "metadata": {
        "id": "3xlZg9hhRRpY"
      },
      "execution_count": null,
      "outputs": []
    },
    {
      "cell_type": "markdown",
      "source": [
        "13.Write a Python program to find the sum of all even numbers between 1 and 50."
      ],
      "metadata": {
        "id": "A7uu6hSoRqpF"
      }
    },
    {
      "cell_type": "code",
      "source": [
        "# Program to find the sum of all even numbers between 1 and 50\n",
        "\n",
        "# Initialize the sum variable\n",
        "sum_of_evens = 0\n",
        "\n",
        "# Use a for loop to iterate through numbers from 1 to 50\n",
        "for num in range(1, 51):\n",
        "    if num % 2 == 0:  # Check if the number is even\n",
        "        sum_of_evens += num  # Add the even number to the sum\n",
        "\n",
        "# Print the result\n",
        "print(f\"The sum of all even numbers between 1 and 50 is: {sum_of_evens}\")\n"
      ],
      "metadata": {
        "id": "5WRE3ZPUSL9B"
      },
      "execution_count": null,
      "outputs": []
    },
    {
      "cell_type": "markdown",
      "source": [
        "14.Write a program to reverse a string using a while loop."
      ],
      "metadata": {
        "id": "fcVRRVdoTKTe"
      }
    },
    {
      "cell_type": "code",
      "source": [
        "# Program to reverse a string using a while loop\n",
        "\n",
        "# Input from the user\n",
        "string = input(\"Enter a string: \")\n",
        "\n",
        "# Initialize variables\n",
        "reversed_string = \"\"\n",
        "index = len(string) - 1  # Set the index to the last character of the string\n",
        "\n",
        "# Use a while loop to reverse the string\n",
        "while index >= 0:\n",
        "    reversed_string += string[index]  # Append the character to the reversed string\n",
        "    index -= 1  # Decrement the index to move to the previous character\n",
        "\n",
        "# Print the reversed string\n",
        "print(f\"Reversed string: {reversed_string}\")\n"
      ],
      "metadata": {
        "id": "h7RfOX_STVe5"
      },
      "execution_count": null,
      "outputs": []
    },
    {
      "cell_type": "markdown",
      "source": [
        "15. Write a Python program to calculate the factorial of a number provided by the user using a while loop.\n"
      ],
      "metadata": {
        "id": "-l02OuTJVbyl"
      }
    },
    {
      "cell_type": "code",
      "source": [
        "# Program to calculate the factorial of a number using a while loop\n",
        "\n",
        "# Input from the user\n",
        "num = int(input(\"Enter a number to calculate its factorial: \"))\n",
        "\n",
        "# Initialize the factorial result\n",
        "factorial = 1\n",
        "\n",
        "# Check if the number is negative\n",
        "if num < 0:\n",
        "    print(\"Factorial is not defined for negative numbers.\")\n",
        "else:\n",
        "    # Calculate factorial using while loop\n",
        "    while num > 1:\n",
        "        factorial *= num  # Multiply current number with factorial\n",
        "        num -= 1  # Decrement the number\n",
        "\n",
        "    # Print the result\n",
        "    print(f\"The factorial is: {factorial}\")\n",
        "\n"
      ],
      "metadata": {
        "id": "heMAUrjUVzR8"
      },
      "execution_count": null,
      "outputs": []
    }
  ]
}